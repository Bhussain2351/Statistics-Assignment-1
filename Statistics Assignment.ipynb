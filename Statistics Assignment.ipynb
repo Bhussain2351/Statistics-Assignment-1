{
 "cells": [
  {
   "cell_type": "code",
   "execution_count": 1,
   "id": "9ed18afa-760a-4931-8cd5-c2fc90e4a72c",
   "metadata": {},
   "outputs": [],
   "source": [
    "# 1 Ans. Statistics is the science of collecting, organising and analysing of Data."
   ]
  },
  {
   "cell_type": "code",
   "execution_count": 2,
   "id": "3e633c93-32a7-44f4-9a16-b78e89c18ed4",
   "metadata": {},
   "outputs": [],
   "source": [
    "# 2 Ans. There are 2 types of statistics - a) Descriptive Statistics and b) Inferential Statistics\n",
    "#         Descriptive Statistics include- Measurement of Central Tendency , Measurement of Dispersion, Difference type of\n",
    "#         of dispersion.\n",
    "\n",
    "#         Inferential Statistics include- Population Data and Sample Data"
   ]
  },
  {
   "cell_type": "code",
   "execution_count": 3,
   "id": "7c6d3e80-ad41-417c-bae5-0aed33b92122",
   "metadata": {},
   "outputs": [],
   "source": [
    "# 3 Ans. There are 2 types of Data : a) Quantative Data and Qualitative Data\n",
    "#        Quantative Data include discreate and continouse\n",
    "#        Qualitative Data include Nominal and Ordinal"
   ]
  },
  {
   "cell_type": "code",
   "execution_count": 4,
   "id": "441763ac-fb3a-4d9a-a8b8-f374988476fc",
   "metadata": {},
   "outputs": [],
   "source": [
    "# 4 Ans\n",
    "# (i) Grading in exam: A+, A, B+, B, C+, C, D, E - Qualitative Data \n",
    "# (ii) Colour of mangoes: yellow, green, orange, red- Qualitative Data \n",
    "# (iii) Height data of a class: [178.9, 179, 179.5, 176, 177.2, 178.3, 175.8,...]-Quantative Data\n",
    "# (iv) Number of mangoes exported by a farm: [500, 600, 478, 672, ...]-Quantative Data"
   ]
  },
  {
   "cell_type": "code",
   "execution_count": 7,
   "id": "72b6a031-bc9d-42ab-942d-2d0b6f3af2cb",
   "metadata": {},
   "outputs": [],
   "source": [
    "# 5 Ans\n",
    "# Levels of measurement, also called scales of measurement, tell you how precisely variables are recorded.\n",
    "# In scientific research,a variable is anything that can take on different values across your data set \n",
    "# (e.g., height or test scores)."
   ]
  },
  {
   "cell_type": "code",
   "execution_count": 8,
   "id": "42e0003a-364c-457a-9afe-e396f876bc52",
   "metadata": {},
   "outputs": [],
   "source": [
    "# 6 Ans\n",
    "# From identifying the level of measurement, researchers can determine how data was collected, \n",
    "# e.g. were the methods qualitative or quantitative, how the data can be classified and\n",
    "# what type of statistical tests can be used.\n",
    "# For instance, continuous data allows researchers to carry out a correlational analysis."
   ]
  },
  {
   "cell_type": "code",
   "execution_count": 9,
   "id": "795cba3f-0e0a-46d6-be51-0c5182cc7feb",
   "metadata": {},
   "outputs": [],
   "source": [
    "# 7 Ans\n",
    "# In Nominal Data Type we cannot catogarize data in ranks\n",
    "# but in Ordinal we catagorize data in ranks"
   ]
  },
  {
   "cell_type": "code",
   "execution_count": 10,
   "id": "8e0ce200-ca70-4a6a-8531-f15092f0ca7f",
   "metadata": {},
   "outputs": [],
   "source": [
    "# 8 Ans. Plot can be used to display data in terms of range- Histogram Plot"
   ]
  },
  {
   "cell_type": "code",
   "execution_count": 11,
   "id": "8d9678a8-2158-46fd-8848-e180abab36aa",
   "metadata": {},
   "outputs": [],
   "source": [
    "# 9 Ans.\n",
    "# descriptive statistics focus on describing the visible characteristics of a dataset (a population or sample). \n",
    "# Meanwhile, inferential statistics focus on making predictions or generalizations about a larger dataset,\n",
    "# based on a sample of those data."
   ]
  },
  {
   "cell_type": "code",
   "execution_count": 12,
   "id": "5e7603ba-66ef-418b-bd79-9540f9b2352f",
   "metadata": {},
   "outputs": [],
   "source": [
    "# 10 Ans\n",
    "\n",
    "# Some common measures of central tendency and variability used in statistics- Mean, Median and Mode, variance and \n",
    "# Standard Deviation"
   ]
  },
  {
   "cell_type": "code",
   "execution_count": null,
   "id": "517122f3-2aa1-4d6f-9844-e5b9d113f3a3",
   "metadata": {},
   "outputs": [],
   "source": []
  }
 ],
 "metadata": {
  "kernelspec": {
   "display_name": "Python 3 (ipykernel)",
   "language": "python",
   "name": "python3"
  },
  "language_info": {
   "codemirror_mode": {
    "name": "ipython",
    "version": 3
   },
   "file_extension": ".py",
   "mimetype": "text/x-python",
   "name": "python",
   "nbconvert_exporter": "python",
   "pygments_lexer": "ipython3",
   "version": "3.10.8"
  }
 },
 "nbformat": 4,
 "nbformat_minor": 5
}
